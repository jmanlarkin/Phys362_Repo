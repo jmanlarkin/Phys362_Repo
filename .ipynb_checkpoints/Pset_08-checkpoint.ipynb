{
 "cells": [
  {
   "cell_type": "code",
   "execution_count": 2,
   "id": "37940e12-4d47-481b-8983-8062a37a65ac",
   "metadata": {},
   "outputs": [],
   "source": [
    "import numpy as np\n",
    "import matplotlib.pyplot as plt\n",
    "from matplotlib import colors\n",
    "%matplotlib inline\n",
    "from tqdm.notebook import tqdm as tqdm"
   ]
  },
  {
   "cell_type": "code",
   "execution_count": 66,
   "id": "399156ce-81d4-4047-9bc1-89e0345a7c1b",
   "metadata": {},
   "outputs": [],
   "source": [
    "#Note here that T measures kT/J, and all lattices are square\n",
    "\n",
    "#Metropolis Algorithm\n",
    "def iteration(lattice, T, N, dim=2):\n",
    "    #picking random spin\n",
    "    loc = np.random.randint(0, high=N, size=dim, dtype=int)\n",
    "    si = lattice[tuple(loc)]\n",
    "    sj = []\n",
    "    \n",
    "    #finding adjacent spins and storing them\n",
    "    for i in range(dim):\n",
    "        obj = np.copy(loc)\n",
    "        obj[i] = obj[i] - 1\n",
    "        s1 = lattice[tuple(obj)]\n",
    "        sj.append(s1)\n",
    "        obj[i] = (obj[i] + 2) % N\n",
    "        s2 = lattice[tuple(obj)]\n",
    "        sj.append(s2)\n",
    "\n",
    "    #computing Delta E\n",
    "    del_e = 2*si*np.sum(np.asarray(sj))\n",
    "    copy = np.copy(lattice)\n",
    "    if del_e <= 0:\n",
    "        copy[tuple(loc)] = -copy[tuple(loc)]\n",
    "        return copy\n",
    "    \n",
    "    #Flip weighted by boltzmann factor p(new)/p(old)\n",
    "    prob = np.exp(-del_e / T)\n",
    "    p = [prob, 1-prob]\n",
    "    flip = np.random.choice([1, 0], replace = True, p = p)\n",
    "    if flip == 1:\n",
    "        copy[tuple(loc)] = -copy[tuple(loc)]\n",
    "    return copy\n",
    "\n",
    "#MCMC\n",
    "def MCMC(chain_len, T, N, dim=2):\n",
    "    \n",
    "    #initializing markov chain\n",
    "    shape = tuple(N * np.ones(dim, dtype=int))\n",
    "    lattice = 2*np.random.randint(low=0, high=2, size=shape, dtype=int)-1\n",
    "    out = [lattice]\n",
    "    \n",
    "    #sampling with Metropolis\n",
    "    for i in tqdm(range(chain_len)):\n",
    "        chain = iteration(out[i], T, N, dim)\n",
    "        out.append(chain)\n",
    "    return out"
   ]
  },
  {
   "cell_type": "code",
   "execution_count": 67,
   "id": "7fb0d1d3-8ea6-4bb4-8514-0887e6029dfd",
   "metadata": {},
   "outputs": [
    {
     "data": {
      "application/vnd.jupyter.widget-view+json": {
       "model_id": "0383909397264123a276f65808f99082",
       "version_major": 2,
       "version_minor": 0
      },
      "text/plain": [
       "  0%|          | 0/14 [00:00<?, ?it/s]"
      ]
     },
     "metadata": {},
     "output_type": "display_data"
    },
    {
     "data": {
      "application/vnd.jupyter.widget-view+json": {
       "model_id": "d55352f387e643718a9d0354c517f0b7",
       "version_major": 2,
       "version_minor": 0
      },
      "text/plain": [
       "  0%|          | 0/400000 [00:00<?, ?it/s]"
      ]
     },
     "metadata": {},
     "output_type": "display_data"
    },
    {
     "data": {
      "application/vnd.jupyter.widget-view+json": {
       "model_id": "02a4f54f72b04195bf2792c316817042",
       "version_major": 2,
       "version_minor": 0
      },
      "text/plain": [
       "  0%|          | 0/400000 [00:00<?, ?it/s]"
      ]
     },
     "metadata": {},
     "output_type": "display_data"
    },
    {
     "data": {
      "application/vnd.jupyter.widget-view+json": {
       "model_id": "fb66eda13fdc4359947378b041530bd1",
       "version_major": 2,
       "version_minor": 0
      },
      "text/plain": [
       "  0%|          | 0/400000 [00:00<?, ?it/s]"
      ]
     },
     "metadata": {},
     "output_type": "display_data"
    },
    {
     "data": {
      "application/vnd.jupyter.widget-view+json": {
       "model_id": "71702904b7bb47f3be757cd9636fd284",
       "version_major": 2,
       "version_minor": 0
      },
      "text/plain": [
       "  0%|          | 0/400000 [00:00<?, ?it/s]"
      ]
     },
     "metadata": {},
     "output_type": "display_data"
    },
    {
     "data": {
      "application/vnd.jupyter.widget-view+json": {
       "model_id": "e3078d9d79264fe4b35fec99132d3a09",
       "version_major": 2,
       "version_minor": 0
      },
      "text/plain": [
       "  0%|          | 0/400000 [00:00<?, ?it/s]"
      ]
     },
     "metadata": {},
     "output_type": "display_data"
    },
    {
     "data": {
      "application/vnd.jupyter.widget-view+json": {
       "model_id": "a252bd46fc784b34b8027c6fa0f75f1e",
       "version_major": 2,
       "version_minor": 0
      },
      "text/plain": [
       "  0%|          | 0/400000 [00:00<?, ?it/s]"
      ]
     },
     "metadata": {},
     "output_type": "display_data"
    },
    {
     "data": {
      "application/vnd.jupyter.widget-view+json": {
       "model_id": "de0098abfc5d4d7bb8c4c90bdfff26a7",
       "version_major": 2,
       "version_minor": 0
      },
      "text/plain": [
       "  0%|          | 0/400000 [00:00<?, ?it/s]"
      ]
     },
     "metadata": {},
     "output_type": "display_data"
    },
    {
     "data": {
      "application/vnd.jupyter.widget-view+json": {
       "model_id": "c52a3bcae26449ba9fcbf0115a8170e0",
       "version_major": 2,
       "version_minor": 0
      },
      "text/plain": [
       "  0%|          | 0/400000 [00:00<?, ?it/s]"
      ]
     },
     "metadata": {},
     "output_type": "display_data"
    },
    {
     "data": {
      "application/vnd.jupyter.widget-view+json": {
       "model_id": "f0353e272cfe49978a470177465762df",
       "version_major": 2,
       "version_minor": 0
      },
      "text/plain": [
       "  0%|          | 0/400000 [00:00<?, ?it/s]"
      ]
     },
     "metadata": {},
     "output_type": "display_data"
    },
    {
     "data": {
      "application/vnd.jupyter.widget-view+json": {
       "model_id": "4e7217d441b842bbba142e8999822ad7",
       "version_major": 2,
       "version_minor": 0
      },
      "text/plain": [
       "  0%|          | 0/400000 [00:00<?, ?it/s]"
      ]
     },
     "metadata": {},
     "output_type": "display_data"
    },
    {
     "data": {
      "application/vnd.jupyter.widget-view+json": {
       "model_id": "932f3b4dd9704d33a2d448882469b4b3",
       "version_major": 2,
       "version_minor": 0
      },
      "text/plain": [
       "  0%|          | 0/400000 [00:00<?, ?it/s]"
      ]
     },
     "metadata": {},
     "output_type": "display_data"
    },
    {
     "data": {
      "application/vnd.jupyter.widget-view+json": {
       "model_id": "cc67699a097a4703a3fb4027e253ed1d",
       "version_major": 2,
       "version_minor": 0
      },
      "text/plain": [
       "  0%|          | 0/400000 [00:00<?, ?it/s]"
      ]
     },
     "metadata": {},
     "output_type": "display_data"
    },
    {
     "data": {
      "application/vnd.jupyter.widget-view+json": {
       "model_id": "4f2f0170ea944610a05180fbd6e96029",
       "version_major": 2,
       "version_minor": 0
      },
      "text/plain": [
       "  0%|          | 0/400000 [00:00<?, ?it/s]"
      ]
     },
     "metadata": {},
     "output_type": "display_data"
    },
    {
     "data": {
      "application/vnd.jupyter.widget-view+json": {
       "model_id": "98dfe3ed4ac247dd95f9c547fe32deba",
       "version_major": 2,
       "version_minor": 0
      },
      "text/plain": [
       "  0%|          | 0/400000 [00:00<?, ?it/s]"
      ]
     },
     "metadata": {},
     "output_type": "display_data"
    }
   ],
   "source": [
    "#Running over T=0.25 to T=3.5 in 0.25 increments -- We expect Tc=02.27 from Lecture\n",
    "N=20\n",
    "chain_length = 20000*N\n",
    "temps = np.linspace(0.25, 3.5, 14, endpoint=True)\n",
    "runs = []\n",
    "for i in tqdm(range(len(temps))):\n",
    "    temp = temps[i]\n",
    "    run = MCMC(chain_length, temp, N)\n",
    "    runs.append(run)"
   ]
  },
  {
   "cell_type": "code",
   "execution_count": 65,
   "id": "c7cfdb71-e870-4c5b-b7cb-159498c24305",
   "metadata": {},
   "outputs": [
    {
     "data": {
      "text/plain": [
       "<matplotlib.collections.QuadMesh at 0x7f9c2293b160>"
      ]
     },
     "execution_count": 65,
     "metadata": {},
     "output_type": "execute_result"
    },
    {
     "data": {
      "image/png": "[encoded data removed]",
      "text/plain": [
       "<Figure size 600x900 with 2 Axes>"
      ]
     },
     "metadata": {},
     "output_type": "display_data"
    }
   ],
   "source": [
    "#Visualizing Code\n",
    "#colors = colors.ListedColormap(['white', 'black'])\n",
    "\n",
    "x = np.arange(0, N+1, 1)\n",
    "cmap = colors.ListedColormap(['black', 'white'])\n",
    "fig, ax = plt.subplots(2, 1, figsize=(6,9))\n",
    "ax[0].pcolormesh(x, x, run_1[0], cmap=cmap)\n",
    "ax[1].pcolormesh(x, x, run_1[-1], cmap=cmap)"
   ]
  },
  {
   "cell_type": "code",
   "execution_count": null,
   "id": "57cb0067-7c53-4810-be7c-74032ba9494b",
   "metadata": {},
   "outputs": [],
   "source": []
  }
 ],
 "metadata": {
  "kernelspec": {
   "display_name": "Python 3 (ipykernel)",
   "language": "python",
   "name": "python3"
  },
  "language_info": {
   "codemirror_mode": {
    "name": "ipython",
    "version": 3
   },
   "file_extension": ".py",
   "mimetype": "text/x-python",
   "name": "python",
   "nbconvert_exporter": "python",
   "pygments_lexer": "ipython3",
   "version": "3.9.7"
  }
 },
 "nbformat": 4,
 "nbformat_minor": 5
}
