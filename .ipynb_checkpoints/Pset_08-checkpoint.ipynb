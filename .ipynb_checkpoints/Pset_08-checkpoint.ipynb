{
 "cells": [
  {
   "cell_type": "code",
   "execution_count": 102,
   "id": "37940e12-4d47-481b-8983-8062a37a65ac",
   "metadata": {},
   "outputs": [
    {
     "name": "stdout",
     "output_type": "stream",
     "text": [
      "Populating the interactive namespace from numpy and matplotlib\n"
     ]
    }
   ],
   "source": [
    "import emcee\n",
    "import numpy as np\n",
    "import corner \n",
    "%pylab inline\n",
    "import matplotlib.pyplot as plt\n",
    "%matplotlib inline\n",
    "from tqdm.notebook import tqdm as tqdm"
   ]
  },
  {
   "cell_type": "code",
   "execution_count": 103,
   "id": "1c17781f-0a1a-4251-a5ec-0cf017829146",
   "metadata": {},
   "outputs": [
    {
     "data": {
      "application/vnd.jupyter.widget-view+json": {
       "model_id": "d0ec940952d74651ad2fb5235cfb1b68",
       "version_major": 2,
       "version_minor": 0
      },
      "text/plain": [
       "  0%|          | 0/100000 [00:00<?, ?it/s]"
      ]
     },
     "metadata": {},
     "output_type": "display_data"
    }
   ],
   "source": [
    "#Metropolis Algorithm\n",
    "def iteration(lattice, T, N, dim=2):\n",
    "    loc = np.random.randint(0, high=N, size=dim, dtype=int)\n",
    "    si = lattice[tuple(loc)]\n",
    "    sj = []\n",
    "    \n",
    "    for i in range(dim):\n",
    "        left = loc\n",
    "        right = loc\n",
    "        left[i] = left[i]-1\n",
    "        right[i] = right[i]+1\n",
    "        s1 = lattice[tuple(left)]\n",
    "        s2 = lattice[tuple(right)]\n",
    "        sj.append(s1)\n",
    "        sj.append(s2)\n",
    "    del_e = np.sum(2*si*np.asarray(sj))    \n",
    "    \n",
    "    if del_e <= 0:\n",
    "        return lattice\n",
    "    \n",
    "    prob = np.exp(-del_e / T)\n",
    "    p = [prob, 1-prob]\n",
    "    flip = np.random.choice([1, 0], replace = True, p = p)\n",
    "    \n",
    "    if flip == 1:\n",
    "        lattice[tuple(loc)] = -lattice[tuple(loc)]\n",
    "        return lattice\n",
    "    \n",
    "    return lattice\n",
    "\n",
    "def MCMC(chain_len, T, N, dim=2, burn_in=100):\n",
    "    if burn_in > chain_len:\n",
    "        raise Exception(\"Chain length must be larger than burn_in length\")\n",
    "        \n",
    "    shape = tuple(N * np.ones(dim, dtype=int))\n",
    "    lattice = 2*np.random.randint(low=0, high=2, size=shape, dtype=int)-1\n",
    "    out = []\n",
    "    \n",
    "    for i in tqdm(range(chain_len)):\n",
    "        lattice = iteration(lattice, T, N, dim)\n",
    "        if i < burn_in:\n",
    "            continue\n",
    "        out.append(lattice)\n",
    "    return out\n",
    "        \n",
    "#Specifiying Conditions\n",
    "N=1000\n",
    "T=2.3\n",
    "chain_length = 100*N\n",
    "run_1 = MCMC(chain_length, T, N)"
   ]
  },
  {
   "cell_type": "code",
   "execution_count": 94,
   "id": "8d62c0a0-1565-4d97-9fa7-22b3aaa0133c",
   "metadata": {},
   "outputs": [
    {
     "name": "stdout",
     "output_type": "stream",
     "text": [
      "[[ 1  1  1 ...  1 -1 -1]\n",
      " [-1 -1  1 ... -1 -1 -1]\n",
      " [-1  1  1 ...  1 -1 -1]\n",
      " ...\n",
      " [-1  1 -1 ...  1 -1 -1]\n",
      " [-1 -1  1 ...  1 -1 -1]\n",
      " [ 1 -1  1 ... -1 -1  1]]\n"
     ]
    }
   ],
   "source": [
    "print(run_1[99])"
   ]
  },
  {
   "cell_type": "code",
   "execution_count": null,
   "id": "c7cfdb71-e870-4c5b-b7cb-159498c24305",
   "metadata": {},
   "outputs": [],
   "source": []
  }
 ],
 "metadata": {
  "kernelspec": {
   "display_name": "Python 3 (ipykernel)",
   "language": "python",
   "name": "python3"
  },
  "language_info": {
   "codemirror_mode": {
    "name": "ipython",
    "version": 3
   },
   "file_extension": ".py",
   "mimetype": "text/x-python",
   "name": "python",
   "nbconvert_exporter": "python",
   "pygments_lexer": "ipython3",
   "version": "3.9.7"
  }
 },
 "nbformat": 4,
 "nbformat_minor": 5
}
