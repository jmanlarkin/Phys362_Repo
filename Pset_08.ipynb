{
 "cells": [
  {
   "cell_type": "code",
   "execution_count": 13,
   "id": "37940e12-4d47-481b-8983-8062a37a65ac",
   "metadata": {},
   "outputs": [],
   "source": [
    "import numpy as np\n",
    "import matplotlib.pyplot as plt\n",
    "from matplotlib import colors\n",
    "%matplotlib inline\n",
    "from tqdm.notebook import tqdm as tqdm"
   ]
  },
  {
   "cell_type": "code",
   "execution_count": 14,
   "id": "399156ce-81d4-4047-9bc1-89e0345a7c1b",
   "metadata": {},
   "outputs": [],
   "source": [
    "#Note here that T measures kT/J, and all lattices are square\n",
    "\n",
    "#Metropolis Algorithm\n",
    "def iteration(lattice, T, N, dim=2):\n",
    "    #picking random spin\n",
    "    loc = np.random.randint(0, high=N, size=dim, dtype=int)\n",
    "    si = lattice[tuple(loc)]\n",
    "    sj = []\n",
    "    \n",
    "    #finding adjacent spins and storing them\n",
    "    for i in range(dim):\n",
    "        obj = np.copy(loc)\n",
    "        obj[i] = obj[i] - 1\n",
    "        s1 = lattice[tuple(obj)]\n",
    "        sj.append(s1)\n",
    "        obj[i] = (obj[i] + 2) % N\n",
    "        s2 = lattice[tuple(obj)]\n",
    "        sj.append(s2)\n",
    "\n",
    "    #computing Delta E\n",
    "    del_e = 2*si*np.sum(np.asarray(sj))\n",
    "    copy = np.copy(lattice)\n",
    "    if del_e <= 0:\n",
    "        copy[tuple(loc)] = -copy[tuple(loc)]\n",
    "        return copy\n",
    "    \n",
    "    #Flip weighted by boltzmann factor p(new)/p(old)\n",
    "    prob = np.exp(-del_e / T)\n",
    "    p = [prob, 1-prob]\n",
    "    flip = np.random.choice([1, 0], replace = True, p = p)\n",
    "    if flip == 1:\n",
    "        copy[tuple(loc)] = -copy[tuple(loc)]\n",
    "    return copy\n",
    "\n",
    "#MCMC\n",
    "def MCMC(chain_len, T, N, dim=2, save_runs=True):\n",
    "    \n",
    "    #initializing markov chain\n",
    "    shape = tuple(N * np.ones(dim, dtype=int))\n",
    "    lattice = 2*np.random.randint(low=0, high=2, size=shape, dtype=int)-1\n",
    "    out = [lattice]\n",
    "    \n",
    "    #sampling with Metropolis\n",
    "    \n",
    "    if save_runs == True:\n",
    "        for i in tqdm(range(chain_len)):\n",
    "            chain = iteration(out[i], T, N, dim)\n",
    "            out.append(chain)\n",
    "        return out\n",
    "    \n",
    "    for i in tqdm(range(chain_len)):\n",
    "        chain = iteration(out[0], T, N, dim)\n",
    "        out[0] = chain\n",
    "    return out[0]"
   ]
  },
  {
   "cell_type": "code",
   "execution_count": 15,
   "id": "8f814ac6-9f54-4aaa-bb28-88e1da7aeb1b",
   "metadata": {},
   "outputs": [
    {
     "data": {
      "application/vnd.jupyter.widget-view+json": {
       "model_id": "645427b6d2654482ba7738f014cb9b68",
       "version_major": 2,
       "version_minor": 0
      },
      "text/plain": [
       "  0%|          | 0/28 [00:00<?, ?it/s]"
      ]
     },
     "metadata": {},
     "output_type": "display_data"
    },
    {
     "data": {
      "application/vnd.jupyter.widget-view+json": {
       "model_id": "78f1e73136dc4120ba54ee7464803c5e",
       "version_major": 2,
       "version_minor": 0
      },
      "text/plain": [
       "  0%|          | 0/400000 [00:00<?, ?it/s]"
      ]
     },
     "metadata": {},
     "output_type": "display_data"
    },
    {
     "data": {
      "application/vnd.jupyter.widget-view+json": {
       "model_id": "d112a5c6e3e74395a2f88ebd4d2404f6",
       "version_major": 2,
       "version_minor": 0
      },
      "text/plain": [
       "  0%|          | 0/400000 [00:00<?, ?it/s]"
      ]
     },
     "metadata": {},
     "output_type": "display_data"
    },
    {
     "data": {
      "application/vnd.jupyter.widget-view+json": {
       "model_id": "80e590938427486a98c69c6c6cfe50af",
       "version_major": 2,
       "version_minor": 0
      },
      "text/plain": [
       "  0%|          | 0/400000 [00:00<?, ?it/s]"
      ]
     },
     "metadata": {},
     "output_type": "display_data"
    },
    {
     "data": {
      "application/vnd.jupyter.widget-view+json": {
       "model_id": "91dd202d4fa14a7e99a713bc543048cb",
       "version_major": 2,
       "version_minor": 0
      },
      "text/plain": [
       "  0%|          | 0/400000 [00:00<?, ?it/s]"
      ]
     },
     "metadata": {},
     "output_type": "display_data"
    },
    {
     "data": {
      "application/vnd.jupyter.widget-view+json": {
       "model_id": "96f1f8ae6301487a88f61279268abf83",
       "version_major": 2,
       "version_minor": 0
      },
      "text/plain": [
       "  0%|          | 0/400000 [00:00<?, ?it/s]"
      ]
     },
     "metadata": {},
     "output_type": "display_data"
    },
    {
     "data": {
      "application/vnd.jupyter.widget-view+json": {
       "model_id": "d0feb832adb74edda392fe5147f22569",
       "version_major": 2,
       "version_minor": 0
      },
      "text/plain": [
       "  0%|          | 0/400000 [00:00<?, ?it/s]"
      ]
     },
     "metadata": {},
     "output_type": "display_data"
    },
    {
     "data": {
      "application/vnd.jupyter.widget-view+json": {
       "model_id": "61df1646643a4b8f807883ab2ae0bb19",
       "version_major": 2,
       "version_minor": 0
      },
      "text/plain": [
       "  0%|          | 0/400000 [00:00<?, ?it/s]"
      ]
     },
     "metadata": {},
     "output_type": "display_data"
    },
    {
     "data": {
      "application/vnd.jupyter.widget-view+json": {
       "model_id": "40c55b9bce42409f968df38b36b4d99c",
       "version_major": 2,
       "version_minor": 0
      },
      "text/plain": [
       "  0%|          | 0/400000 [00:00<?, ?it/s]"
      ]
     },
     "metadata": {},
     "output_type": "display_data"
    },
    {
     "data": {
      "application/vnd.jupyter.widget-view+json": {
       "model_id": "0f5fa86ffda34ed9878e29f47435a8cd",
       "version_major": 2,
       "version_minor": 0
      },
      "text/plain": [
       "  0%|          | 0/400000 [00:00<?, ?it/s]"
      ]
     },
     "metadata": {},
     "output_type": "display_data"
    },
    {
     "data": {
      "application/vnd.jupyter.widget-view+json": {
       "model_id": "cfc4927f148b4656af6b8ffb768f4c5e",
       "version_major": 2,
       "version_minor": 0
      },
      "text/plain": [
       "  0%|          | 0/400000 [00:00<?, ?it/s]"
      ]
     },
     "metadata": {},
     "output_type": "display_data"
    },
    {
     "data": {
      "application/vnd.jupyter.widget-view+json": {
       "model_id": "d9b9819215024426b78d6426b718560b",
       "version_major": 2,
       "version_minor": 0
      },
      "text/plain": [
       "  0%|          | 0/400000 [00:00<?, ?it/s]"
      ]
     },
     "metadata": {},
     "output_type": "display_data"
    },
    {
     "data": {
      "application/vnd.jupyter.widget-view+json": {
       "model_id": "033209d6d9874390ad29a1537bb85a20",
       "version_major": 2,
       "version_minor": 0
      },
      "text/plain": [
       "  0%|          | 0/400000 [00:00<?, ?it/s]"
      ]
     },
     "metadata": {},
     "output_type": "display_data"
    },
    {
     "data": {
      "application/vnd.jupyter.widget-view+json": {
       "model_id": "f565da3f398d435fb535ebe346eed48c",
       "version_major": 2,
       "version_minor": 0
      },
      "text/plain": [
       "  0%|          | 0/400000 [00:00<?, ?it/s]"
      ]
     },
     "metadata": {},
     "output_type": "display_data"
    },
    {
     "data": {
      "application/vnd.jupyter.widget-view+json": {
       "model_id": "cc557bb94fbc49cf8cfd17e7fd04ea79",
       "version_major": 2,
       "version_minor": 0
      },
      "text/plain": [
       "  0%|          | 0/400000 [00:00<?, ?it/s]"
      ]
     },
     "metadata": {},
     "output_type": "display_data"
    },
    {
     "data": {
      "application/vnd.jupyter.widget-view+json": {
       "model_id": "ed46549d4c974b7dab2b6a65468a11a1",
       "version_major": 2,
       "version_minor": 0
      },
      "text/plain": [
       "  0%|          | 0/400000 [00:00<?, ?it/s]"
      ]
     },
     "metadata": {},
     "output_type": "display_data"
    },
    {
     "data": {
      "application/vnd.jupyter.widget-view+json": {
       "model_id": "f6596b5d2be44a8aadbe01893d6137a9",
       "version_major": 2,
       "version_minor": 0
      },
      "text/plain": [
       "  0%|          | 0/400000 [00:00<?, ?it/s]"
      ]
     },
     "metadata": {},
     "output_type": "display_data"
    },
    {
     "data": {
      "application/vnd.jupyter.widget-view+json": {
       "model_id": "a7784a654bd8433b83982c6e678e8854",
       "version_major": 2,
       "version_minor": 0
      },
      "text/plain": [
       "  0%|          | 0/400000 [00:00<?, ?it/s]"
      ]
     },
     "metadata": {},
     "output_type": "display_data"
    },
    {
     "data": {
      "application/vnd.jupyter.widget-view+json": {
       "model_id": "3a971eb8e1de4741977b45c31471ea7d",
       "version_major": 2,
       "version_minor": 0
      },
      "text/plain": [
       "  0%|          | 0/400000 [00:00<?, ?it/s]"
      ]
     },
     "metadata": {},
     "output_type": "display_data"
    },
    {
     "data": {
      "application/vnd.jupyter.widget-view+json": {
       "model_id": "fbfa442aa50a46a9b467088e0d97b0f0",
       "version_major": 2,
       "version_minor": 0
      },
      "text/plain": [
       "  0%|          | 0/400000 [00:00<?, ?it/s]"
      ]
     },
     "metadata": {},
     "output_type": "display_data"
    },
    {
     "data": {
      "application/vnd.jupyter.widget-view+json": {
       "model_id": "02b8f8abf2734d55ba888f5306492e66",
       "version_major": 2,
       "version_minor": 0
      },
      "text/plain": [
       "  0%|          | 0/400000 [00:00<?, ?it/s]"
      ]
     },
     "metadata": {},
     "output_type": "display_data"
    },
    {
     "data": {
      "application/vnd.jupyter.widget-view+json": {
       "model_id": "a4c90786089f428c887d903b2335d89b",
       "version_major": 2,
       "version_minor": 0
      },
      "text/plain": [
       "  0%|          | 0/400000 [00:00<?, ?it/s]"
      ]
     },
     "metadata": {},
     "output_type": "display_data"
    },
    {
     "data": {
      "application/vnd.jupyter.widget-view+json": {
       "model_id": "4d0a083303cc4aa8ae5b1b3f09c01774",
       "version_major": 2,
       "version_minor": 0
      },
      "text/plain": [
       "  0%|          | 0/400000 [00:00<?, ?it/s]"
      ]
     },
     "metadata": {},
     "output_type": "display_data"
    },
    {
     "data": {
      "application/vnd.jupyter.widget-view+json": {
       "model_id": "bfe91f66c0e14e9280bc4564eb272fbd",
       "version_major": 2,
       "version_minor": 0
      },
      "text/plain": [
       "  0%|          | 0/400000 [00:00<?, ?it/s]"
      ]
     },
     "metadata": {},
     "output_type": "display_data"
    },
    {
     "data": {
      "application/vnd.jupyter.widget-view+json": {
       "model_id": "9f64c6f3a411428ca71563f90de5de06",
       "version_major": 2,
       "version_minor": 0
      },
      "text/plain": [
       "  0%|          | 0/400000 [00:00<?, ?it/s]"
      ]
     },
     "metadata": {},
     "output_type": "display_data"
    },
    {
     "data": {
      "application/vnd.jupyter.widget-view+json": {
       "model_id": "74fbb5c9c41b421c9b93adbfbe8c8fb1",
       "version_major": 2,
       "version_minor": 0
      },
      "text/plain": [
       "  0%|          | 0/400000 [00:00<?, ?it/s]"
      ]
     },
     "metadata": {},
     "output_type": "display_data"
    },
    {
     "data": {
      "application/vnd.jupyter.widget-view+json": {
       "model_id": "ef1f48f690934f51ab3aac29ee464114",
       "version_major": 2,
       "version_minor": 0
      },
      "text/plain": [
       "  0%|          | 0/400000 [00:00<?, ?it/s]"
      ]
     },
     "metadata": {},
     "output_type": "display_data"
    },
    {
     "data": {
      "application/vnd.jupyter.widget-view+json": {
       "model_id": "b36a1f0a7079436392f94f4144aca897",
       "version_major": 2,
       "version_minor": 0
      },
      "text/plain": [
       "  0%|          | 0/400000 [00:00<?, ?it/s]"
      ]
     },
     "metadata": {},
     "output_type": "display_data"
    },
    {
     "data": {
      "application/vnd.jupyter.widget-view+json": {
       "model_id": "16e51faf4de541be95f9ac8c6c117ce4",
       "version_major": 2,
       "version_minor": 0
      },
      "text/plain": [
       "  0%|          | 0/400000 [00:01<?, ?it/s]"
      ]
     },
     "metadata": {},
     "output_type": "display_data"
    }
   ],
   "source": [
    "#Running over T=0.25 to T=3.5 in 0.125 increments -- We expect Tc=02.27 from Lecture\n",
    "N=20\n",
    "chain_length = 20000*N\n",
    "temps = np.linspace(0.25, 3.5, 28, endpoint=True)\n",
    "runs = []\n",
    "for i in tqdm(range(len(temps))):\n",
    "    temp = temps[i]\n",
    "    run = MCMC(chain_length, temp, N)\n",
    "    runs.append(run)"
   ]
  },
  {
   "cell_type": "code",
   "execution_count": 16,
   "id": "565a7d87-927e-49c2-b480-ea549a8a0480",
   "metadata": {},
   "outputs": [
    {
     "data": {
      "image/png": "[encoded data removed]",
      "text/plain": [
       "<Figure size 1800x600 with 14 Axes>"
      ]
     },
     "metadata": {},
     "output_type": "display_data"
    }
   ],
   "source": [
    "#Visualizing 2D Lattice at various dimensionless temps\n",
    "x = np.arange(0, N+1, 1)\n",
    "temps = np.arange(0.25, 3.75, 0.25)\n",
    "cmap = colors.ListedColormap(['black', 'white'])\n",
    "fig, axes = plt.subplots(2, 7, figsize=(6*3, 2*3))\n",
    "for i, ax in enumerate(axes.flat, start=1):\n",
    "    ax.set_title('$k_b T$ = {}J'.format(temps[i-1]), fontsize=20)\n",
    "    ax.axis('off')\n",
    "    ax.pcolormesh(x, x, runs[2*i-2][-1], cmap=cmap)\n",
    "fig.tight_layout()\n",
    "fig.savefig('Temps.jpeg')"
   ]
  },
  {
   "cell_type": "code",
   "execution_count": 8,
   "id": "0ad3f5d4-b63d-460e-9c83-ece746f82446",
   "metadata": {},
   "outputs": [
    {
     "data": {
      "application/vnd.jupyter.widget-view+json": {
       "model_id": "8f05860bef864f5cb27743ee1f2fba5c",
       "version_major": 2,
       "version_minor": 0
      },
      "text/plain": [
       "  0%|          | 0/6 [00:00<?, ?it/s]"
      ]
     },
     "metadata": {},
     "output_type": "display_data"
    },
    {
     "data": {
      "application/vnd.jupyter.widget-view+json": {
       "model_id": "c7cbff30fed6451298ea1175ac009098",
       "version_major": 2,
       "version_minor": 0
      },
      "text/plain": [
       "  0%|          | 0/500000 [00:00<?, ?it/s]"
      ]
     },
     "metadata": {},
     "output_type": "display_data"
    },
    {
     "data": {
      "application/vnd.jupyter.widget-view+json": {
       "model_id": "1e9bc2ba263b4a6b9af7cf23a517c498",
       "version_major": 2,
       "version_minor": 0
      },
      "text/plain": [
       "  0%|          | 0/500000 [00:00<?, ?it/s]"
      ]
     },
     "metadata": {},
     "output_type": "display_data"
    },
    {
     "data": {
      "application/vnd.jupyter.widget-view+json": {
       "model_id": "c422704ab6a94bbf8e173e2f22fd2313",
       "version_major": 2,
       "version_minor": 0
      },
      "text/plain": [
       "  0%|          | 0/500000 [00:00<?, ?it/s]"
      ]
     },
     "metadata": {},
     "output_type": "display_data"
    },
    {
     "data": {
      "application/vnd.jupyter.widget-view+json": {
       "model_id": "9741098c470a4675bba6b9e37ad2fec5",
       "version_major": 2,
       "version_minor": 0
      },
      "text/plain": [
       "  0%|          | 0/500000 [00:00<?, ?it/s]"
      ]
     },
     "metadata": {},
     "output_type": "display_data"
    },
    {
     "data": {
      "application/vnd.jupyter.widget-view+json": {
       "model_id": "1eea18fd48b3440799953ddbb811a097",
       "version_major": 2,
       "version_minor": 0
      },
      "text/plain": [
       "  0%|          | 0/500000 [00:00<?, ?it/s]"
      ]
     },
     "metadata": {},
     "output_type": "display_data"
    },
    {
     "data": {
      "application/vnd.jupyter.widget-view+json": {
       "model_id": "dadfa9b359064f798951b937a259614e",
       "version_major": 2,
       "version_minor": 0
      },
      "text/plain": [
       "  0%|          | 0/500000 [00:00<?, ?it/s]"
      ]
     },
     "metadata": {},
     "output_type": "display_data"
    }
   ],
   "source": [
    "#Runs of larger size around T = 2.27\n",
    "N=100\n",
    "chain_length = 5000*N\n",
    "temps = np.linspace(2, 2.5, 6, endpoint=True)\n",
    "runs_crit = []\n",
    "for i in tqdm(range(len(temps))):\n",
    "    temp = temps[i]\n",
    "    run = MCMC(chain_length, temp, N, save_runs=False)\n",
    "    runs_crit.append(run)"
   ]
  },
  {
   "cell_type": "code",
   "execution_count": 9,
   "id": "e1bf75d4-a2cd-4895-abf4-df9605df2639",
   "metadata": {},
   "outputs": [
    {
     "data": {
      "image/png": "[encoded data removed]",
      "text/plain": [
       "<Figure size 1200x600 with 6 Axes>"
      ]
     },
     "metadata": {},
     "output_type": "display_data"
    }
   ],
   "source": [
    "#Visualizing 2D Lattice at various dimensionless temps\n",
    "x = np.arange(0, N+1, 1)\n",
    "cmap = colors.ListedColormap(['black', 'white'])\n",
    "fig, axes = plt.subplots(2, 3, figsize=(6*2, 2*3))\n",
    "for i, ax in enumerate(axes.flat, start=1):\n",
    "    ax.set_title('$k_b T$ = {}J'.format(temps[i-1]), fontsize=20)\n",
    "    ax.axis('off')\n",
    "    ax.pcolormesh(x, x, runs_crit[i-1], cmap=cmap)\n",
    "fig.tight_layout()"
   ]
  },
  {
   "cell_type": "code",
   "execution_count": null,
   "id": "fe3b5008-9f9a-4192-96cd-5bb51cb483ec",
   "metadata": {},
   "outputs": [
    {
     "data": {
      "application/vnd.jupyter.widget-view+json": {
       "model_id": "18c5b889dc754965902181ffab0221a7",
       "version_major": 2,
       "version_minor": 0
      },
      "text/plain": [
       "  0%|          | 0/4000000 [00:00<?, ?it/s]"
      ]
     },
     "metadata": {},
     "output_type": "display_data"
    }
   ],
   "source": [
    "#Run at T=2.27\n",
    "N = 200\n",
    "chain_length = 20000*N\n",
    "run_crit = MCMC(chain_length, 2.27, N, dim=2, save_runs=False)"
   ]
  },
  {
   "cell_type": "code",
   "execution_count": 28,
   "id": "6399d9e0-c869-4b64-af60-a31a84ed85cf",
   "metadata": {},
   "outputs": [
    {
     "data": {
      "image/png": "[encoded data removed]",
      "text/plain": [
       "<Figure size 640x480 with 1 Axes>"
      ]
     },
     "metadata": {},
     "output_type": "display_data"
    }
   ],
   "source": [
    "#Visualizing 2D Lattice at Critical Temp Tc=2.27\n",
    "x = np.arange(0, N+1, 1)\n",
    "cmap = colors.ListedColormap(['black', 'white'])\n",
    "fig, ax = plt.subplots()\n",
    "ax.set_title('$k_b T$ = 2.27J')\n",
    "ax.axis('off')\n",
    "ax.pcolormesh(x, x, run_crit, cmap=cmap)\n",
    "fig.savefig('Critical.jpeg')"
   ]
  },
  {
   "cell_type": "code",
   "execution_count": null,
   "id": "7e28da9f-c896-4a24-ad99-65a5c8efd008",
   "metadata": {},
   "outputs": [],
   "source": []
  }
 ],
 "metadata": {
  "kernelspec": {
   "display_name": "Python 3 (ipykernel)",
   "language": "python",
   "name": "python3"
  },
  "language_info": {
   "codemirror_mode": {
    "name": "ipython",
    "version": 3
   },
   "file_extension": ".py",
   "mimetype": "text/x-python",
   "name": "python",
   "nbconvert_exporter": "python",
   "pygments_lexer": "ipython3",
   "version": "3.9.7"
  }
 },
 "nbformat": 4,
 "nbformat_minor": 5
}
