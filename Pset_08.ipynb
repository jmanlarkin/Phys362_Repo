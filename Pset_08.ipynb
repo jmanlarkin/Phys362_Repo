{
 "cells": [
  {
   "cell_type": "code",
   "execution_count": 1,
   "id": "37940e12-4d47-481b-8983-8062a37a65ac",
   "metadata": {},
   "outputs": [],
   "source": [
    "import numpy as np\n",
    "import matplotlib.pyplot as plt\n",
    "from matplotlib import colors\n",
    "%matplotlib inline\n",
    "from tqdm.notebook import tqdm as tqdm"
   ]
  },
  {
   "cell_type": "code",
   "execution_count": 2,
   "id": "399156ce-81d4-4047-9bc1-89e0345a7c1b",
   "metadata": {},
   "outputs": [],
   "source": [
    "#Note here that T measures kT/J, and all lattices are square\n",
    "\n",
    "#Metropolis Algorithm\n",
    "def iteration(lattice, T, N, dim=2):\n",
    "    #picking random spin\n",
    "    loc = np.random.randint(0, high=N, size=dim, dtype=int)\n",
    "    si = lattice[tuple(loc)]\n",
    "    sj = []\n",
    "    \n",
    "    #finding adjacent spins and storing them\n",
    "    for i in range(dim):\n",
    "        obj = np.copy(loc)\n",
    "        obj[i] = obj[i] - 1\n",
    "        s1 = lattice[tuple(obj)]\n",
    "        sj.append(s1)\n",
    "        obj[i] = (obj[i] + 2) % N\n",
    "        s2 = lattice[tuple(obj)]\n",
    "        sj.append(s2)\n",
    "\n",
    "    #computing Delta E\n",
    "    del_e = 2*si*np.sum(np.asarray(sj))\n",
    "    copy = np.copy(lattice)\n",
    "    if del_e <= 0:\n",
    "        copy[tuple(loc)] = -copy[tuple(loc)]\n",
    "        return copy\n",
    "    \n",
    "    #Flip weighted by boltzmann factor p(new)/p(old)\n",
    "    prob = np.exp(-del_e / T)\n",
    "    p = [prob, 1-prob]\n",
    "    flip = np.random.choice([1, 0], replace = True, p = p)\n",
    "    if flip == 1:\n",
    "        copy[tuple(loc)] = -copy[tuple(loc)]\n",
    "    return copy\n",
    "\n",
    "#MCMC\n",
    "def MCMC(chain_len, T, N, dim=2):\n",
    "    \n",
    "    #initializing markov chain\n",
    "    shape = tuple(N * np.ones(dim, dtype=int))\n",
    "    lattice = 2*np.random.randint(low=0, high=2, size=shape, dtype=int)-1\n",
    "    out = [lattice]\n",
    "    \n",
    "    #sampling with Metropolis\n",
    "    for i in tqdm(range(chain_len)):\n",
    "        chain = iteration(out[i], T, N, dim)\n",
    "        out.append(chain)\n",
    "    return out"
   ]
  },
  {
   "cell_type": "code",
   "execution_count": 3,
   "id": "8f814ac6-9f54-4aaa-bb28-88e1da7aeb1b",
   "metadata": {},
   "outputs": [
    {
     "data": {
      "application/vnd.jupyter.widget-view+json": {
       "model_id": "aca2b78fff894cd8b987fdf37c720251",
       "version_major": 2,
       "version_minor": 0
      },
      "text/plain": [
       "  0%|          | 0/28 [00:00<?, ?it/s]"
      ]
     },
     "metadata": {},
     "output_type": "display_data"
    },
    {
     "data": {
      "application/vnd.jupyter.widget-view+json": {
       "model_id": "3067524918c04ca293c0f2247f174312",
       "version_major": 2,
       "version_minor": 0
      },
      "text/plain": [
       "  0%|          | 0/400000 [00:00<?, ?it/s]"
      ]
     },
     "metadata": {},
     "output_type": "display_data"
    },
    {
     "data": {
      "application/vnd.jupyter.widget-view+json": {
       "model_id": "9cc07f419c654ac796ea915a99a92ad5",
       "version_major": 2,
       "version_minor": 0
      },
      "text/plain": [
       "  0%|          | 0/400000 [00:00<?, ?it/s]"
      ]
     },
     "metadata": {},
     "output_type": "display_data"
    },
    {
     "data": {
      "application/vnd.jupyter.widget-view+json": {
       "model_id": "21fadf14fe3049cc8c812191d094e327",
       "version_major": 2,
       "version_minor": 0
      },
      "text/plain": [
       "  0%|          | 0/400000 [00:00<?, ?it/s]"
      ]
     },
     "metadata": {},
     "output_type": "display_data"
    },
    {
     "data": {
      "application/vnd.jupyter.widget-view+json": {
       "model_id": "1790245e6bfb4420bede3db33bfaac2c",
       "version_major": 2,
       "version_minor": 0
      },
      "text/plain": [
       "  0%|          | 0/400000 [00:00<?, ?it/s]"
      ]
     },
     "metadata": {},
     "output_type": "display_data"
    },
    {
     "data": {
      "application/vnd.jupyter.widget-view+json": {
       "model_id": "44b7ae9498e1409eaf8e28481f6840b8",
       "version_major": 2,
       "version_minor": 0
      },
      "text/plain": [
       "  0%|          | 0/400000 [00:00<?, ?it/s]"
      ]
     },
     "metadata": {},
     "output_type": "display_data"
    },
    {
     "data": {
      "application/vnd.jupyter.widget-view+json": {
       "model_id": "c6859eadacea42a7bfbcc531359d8d2c",
       "version_major": 2,
       "version_minor": 0
      },
      "text/plain": [
       "  0%|          | 0/400000 [00:00<?, ?it/s]"
      ]
     },
     "metadata": {},
     "output_type": "display_data"
    },
    {
     "data": {
      "application/vnd.jupyter.widget-view+json": {
       "model_id": "863898d910b344d5a7002d1e8357eb68",
       "version_major": 2,
       "version_minor": 0
      },
      "text/plain": [
       "  0%|          | 0/400000 [00:00<?, ?it/s]"
      ]
     },
     "metadata": {},
     "output_type": "display_data"
    },
    {
     "data": {
      "application/vnd.jupyter.widget-view+json": {
       "model_id": "3cf6efb7bb3343549c98f4c0233b9089",
       "version_major": 2,
       "version_minor": 0
      },
      "text/plain": [
       "  0%|          | 0/400000 [00:00<?, ?it/s]"
      ]
     },
     "metadata": {},
     "output_type": "display_data"
    },
    {
     "data": {
      "application/vnd.jupyter.widget-view+json": {
       "model_id": "dd915838aa624c4785c05b178cdef1f8",
       "version_major": 2,
       "version_minor": 0
      },
      "text/plain": [
       "  0%|          | 0/400000 [00:00<?, ?it/s]"
      ]
     },
     "metadata": {},
     "output_type": "display_data"
    },
    {
     "data": {
      "application/vnd.jupyter.widget-view+json": {
       "model_id": "6854f7844c10483c8cf667eeddf08351",
       "version_major": 2,
       "version_minor": 0
      },
      "text/plain": [
       "  0%|          | 0/400000 [00:00<?, ?it/s]"
      ]
     },
     "metadata": {},
     "output_type": "display_data"
    },
    {
     "data": {
      "application/vnd.jupyter.widget-view+json": {
       "model_id": "07c9874bf668468f911a3b6dd3c4ba8c",
       "version_major": 2,
       "version_minor": 0
      },
      "text/plain": [
       "  0%|          | 0/400000 [00:00<?, ?it/s]"
      ]
     },
     "metadata": {},
     "output_type": "display_data"
    },
    {
     "data": {
      "application/vnd.jupyter.widget-view+json": {
       "model_id": "114f48a260b14edcb3d8926935a9aec5",
       "version_major": 2,
       "version_minor": 0
      },
      "text/plain": [
       "  0%|          | 0/400000 [00:00<?, ?it/s]"
      ]
     },
     "metadata": {},
     "output_type": "display_data"
    },
    {
     "data": {
      "application/vnd.jupyter.widget-view+json": {
       "model_id": "4a49d4fd91ee4088bc457af44f2b676d",
       "version_major": 2,
       "version_minor": 0
      },
      "text/plain": [
       "  0%|          | 0/400000 [00:00<?, ?it/s]"
      ]
     },
     "metadata": {},
     "output_type": "display_data"
    },
    {
     "data": {
      "application/vnd.jupyter.widget-view+json": {
       "model_id": "0d937797d9ba4e66a4ecba92a64ef3fa",
       "version_major": 2,
       "version_minor": 0
      },
      "text/plain": [
       "  0%|          | 0/400000 [00:00<?, ?it/s]"
      ]
     },
     "metadata": {},
     "output_type": "display_data"
    },
    {
     "data": {
      "application/vnd.jupyter.widget-view+json": {
       "model_id": "fc91edc946034721a2410cb6126e502d",
       "version_major": 2,
       "version_minor": 0
      },
      "text/plain": [
       "  0%|          | 0/400000 [00:00<?, ?it/s]"
      ]
     },
     "metadata": {},
     "output_type": "display_data"
    },
    {
     "data": {
      "application/vnd.jupyter.widget-view+json": {
       "model_id": "131b502282874f83b8cafad032aeffb6",
       "version_major": 2,
       "version_minor": 0
      },
      "text/plain": [
       "  0%|          | 0/400000 [00:00<?, ?it/s]"
      ]
     },
     "metadata": {},
     "output_type": "display_data"
    },
    {
     "data": {
      "application/vnd.jupyter.widget-view+json": {
       "model_id": "171bdaa0d07744168b1cf17d8ffde5bf",
       "version_major": 2,
       "version_minor": 0
      },
      "text/plain": [
       "  0%|          | 0/400000 [00:00<?, ?it/s]"
      ]
     },
     "metadata": {},
     "output_type": "display_data"
    },
    {
     "data": {
      "application/vnd.jupyter.widget-view+json": {
       "model_id": "7eea5a73f3cd4376a3e54cbab927490a",
       "version_major": 2,
       "version_minor": 0
      },
      "text/plain": [
       "  0%|          | 0/400000 [00:00<?, ?it/s]"
      ]
     },
     "metadata": {},
     "output_type": "display_data"
    },
    {
     "data": {
      "application/vnd.jupyter.widget-view+json": {
       "model_id": "5cb1a3b81c04478eab66c494dd3de10d",
       "version_major": 2,
       "version_minor": 0
      },
      "text/plain": [
       "  0%|          | 0/400000 [00:00<?, ?it/s]"
      ]
     },
     "metadata": {},
     "output_type": "display_data"
    },
    {
     "data": {
      "application/vnd.jupyter.widget-view+json": {
       "model_id": "35b745befda44b89a6859967bce0a548",
       "version_major": 2,
       "version_minor": 0
      },
      "text/plain": [
       "  0%|          | 0/400000 [00:00<?, ?it/s]"
      ]
     },
     "metadata": {},
     "output_type": "display_data"
    },
    {
     "data": {
      "application/vnd.jupyter.widget-view+json": {
       "model_id": "54809bff9f62455d8f09a21845d29b28",
       "version_major": 2,
       "version_minor": 0
      },
      "text/plain": [
       "  0%|          | 0/400000 [00:00<?, ?it/s]"
      ]
     },
     "metadata": {},
     "output_type": "display_data"
    },
    {
     "data": {
      "application/vnd.jupyter.widget-view+json": {
       "model_id": "18d1c2a37bc04535a1898a55108446ef",
       "version_major": 2,
       "version_minor": 0
      },
      "text/plain": [
       "  0%|          | 0/400000 [00:00<?, ?it/s]"
      ]
     },
     "metadata": {},
     "output_type": "display_data"
    },
    {
     "data": {
      "application/vnd.jupyter.widget-view+json": {
       "model_id": "7a86aea4a90f426aa61b930dc3fc639e",
       "version_major": 2,
       "version_minor": 0
      },
      "text/plain": [
       "  0%|          | 0/400000 [00:00<?, ?it/s]"
      ]
     },
     "metadata": {},
     "output_type": "display_data"
    },
    {
     "data": {
      "application/vnd.jupyter.widget-view+json": {
       "model_id": "0a62c7bb862f4f6ebda1108909733767",
       "version_major": 2,
       "version_minor": 0
      },
      "text/plain": [
       "  0%|          | 0/400000 [00:00<?, ?it/s]"
      ]
     },
     "metadata": {},
     "output_type": "display_data"
    },
    {
     "data": {
      "application/vnd.jupyter.widget-view+json": {
       "model_id": "6d64fc8d1ca241bfaadfc912d121fb46",
       "version_major": 2,
       "version_minor": 0
      },
      "text/plain": [
       "  0%|          | 0/400000 [00:00<?, ?it/s]"
      ]
     },
     "metadata": {},
     "output_type": "display_data"
    },
    {
     "data": {
      "application/vnd.jupyter.widget-view+json": {
       "model_id": "6a432d168ba24d8b89600f8bc1887934",
       "version_major": 2,
       "version_minor": 0
      },
      "text/plain": [
       "  0%|          | 0/400000 [00:00<?, ?it/s]"
      ]
     },
     "metadata": {},
     "output_type": "display_data"
    },
    {
     "data": {
      "application/vnd.jupyter.widget-view+json": {
       "model_id": "5a6c622c3431499f9c5a3e7853d768e5",
       "version_major": 2,
       "version_minor": 0
      },
      "text/plain": [
       "  0%|          | 0/400000 [00:00<?, ?it/s]"
      ]
     },
     "metadata": {},
     "output_type": "display_data"
    },
    {
     "data": {
      "application/vnd.jupyter.widget-view+json": {
       "model_id": "2db4a3ac3d0c4cac9e683cc46dc66f1a",
       "version_major": 2,
       "version_minor": 0
      },
      "text/plain": [
       "  0%|          | 0/400000 [00:00<?, ?it/s]"
      ]
     },
     "metadata": {},
     "output_type": "display_data"
    }
   ],
   "source": [
    "#Running over T=0.25 to T=3.5 in 0.125 increments -- We expect Tc=02.27 from Lecture\n",
    "N=20\n",
    "chain_length = 20000*N\n",
    "temps = np.linspace(0.25, 3.5, 28, endpoint=True)\n",
    "runs = []\n",
    "for i in tqdm(range(len(temps))):\n",
    "    temp = temps[i]\n",
    "    run = MCMC(chain_length, temp, N)\n",
    "    runs.append(run)"
   ]
  },
  {
   "cell_type": "code",
   "execution_count": 26,
   "id": "565a7d87-927e-49c2-b480-ea549a8a0480",
   "metadata": {},
   "outputs": [
    {
     "data": {
      "image/png": "[encoded data removed]",
      "text/plain": [
       "<Figure size 1800x600 with 14 Axes>"
      ]
     },
     "metadata": {},
     "output_type": "display_data"
    }
   ],
   "source": [
    "#Visualizing 2D Lattice at various dimensionless temps\n",
    "x = np.arange(0, N+1, 1)\n",
    "temps = np.arange(0.25, 3.75, 0.25)\n",
    "cmap = colors.ListedColormap(['black', 'white'])\n",
    "fig, axes = plt.subplots(2, 7, figsize=(6*3, 2*3))\n",
    "for i, ax in enumerate(axes.flat, start=1):\n",
    "    ax.set_title('$k_b T$ = {}J'.format(temps[i-1]), fontsize=20)\n",
    "    ax.axis('off')\n",
    "    ax.pcolormesh(x, x, runs[2*i-1][-1], cmap=cmap)\n",
    "fig.tight_layout()"
   ]
  },
  {
   "cell_type": "code",
   "execution_count": 27,
   "id": "86c1a6b8-ca15-4fd0-8b09-3379e3af4847",
   "metadata": {},
   "outputs": [
    {
     "data": {
      "text/plain": [
       "[<matplotlib.lines.Line2D at 0x7f9b37e58760>]"
      ]
     },
     "execution_count": 27,
     "metadata": {},
     "output_type": "execute_result"
    },
    {
     "data": {
      "image/png": "[encoded data removed]",
      "text/plain": [
       "<Figure size 640x480 with 1 Axes>"
      ]
     },
     "metadata": {},
     "output_type": "display_data"
    }
   ],
   "source": [
    "#Calculating magnetization for each temperature\n",
    "mag = []\n",
    "temps = np.linspace(0.25, 3.5, 28, endpoint=True)\n",
    "for i in range(len(temps)):\n",
    "    lattice = runs[i][-1]\n",
    "    s_avg = np.abs(np.sum(lattice))  \n",
    "    m = s_avg / (N ** 2)\n",
    "    mag.append(m)\n",
    "plt.plot(temps, mag)"
   ]
  },
  {
   "cell_type": "code",
   "execution_count": null,
   "id": "0ad3f5d4-b63d-460e-9c83-ece746f82446",
   "metadata": {},
   "outputs": [],
   "source": []
  }
 ],
 "metadata": {
  "kernelspec": {
   "display_name": "Python 3 (ipykernel)",
   "language": "python",
   "name": "python3"
  },
  "language_info": {
   "codemirror_mode": {
    "name": "ipython",
    "version": 3
   },
   "file_extension": ".py",
   "mimetype": "text/x-python",
   "name": "python",
   "nbconvert_exporter": "python",
   "pygments_lexer": "ipython3",
   "version": "3.9.7"
  }
 },
 "nbformat": 4,
 "nbformat_minor": 5
}
